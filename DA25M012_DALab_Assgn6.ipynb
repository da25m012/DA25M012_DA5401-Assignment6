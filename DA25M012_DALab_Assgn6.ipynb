{
 "cells": [
  {
   "cell_type": "markdown",
   "id": "737c2713-8c74-4231-9da6-ffa2bc97a817",
   "metadata": {},
   "source": [
    "# DA5401 Assignment 6 - Imputation via Regression for Missing data"
   ]
  },
  {
   "cell_type": "markdown",
   "id": "26850d3b-7a74-40d5-99d7-fc94f7160cf8",
   "metadata": {},
   "source": [
    "### Problem Statement"
   ]
  },
  {
   "cell_type": "markdown",
   "id": "d114fad5-c1cb-44fc-a741-4540d8f384fd",
   "metadata": {},
   "source": [
    "We are working on a credit card risk assessment project, we are provided with a dataset which has missing values in several important feature columns. The presence of missing data prevents the immediate application of classification methods.  \n",
    "We need to implement various strategies for handling this missing data and then use the resulting clean datasets to train and evaluate a classification model"
   ]
  },
  {
   "cell_type": "code",
   "execution_count": 1,
   "id": "0c16719a-837b-4f5a-8d86-eb0215f44881",
   "metadata": {},
   "outputs": [],
   "source": [
    "import numpy as np\n",
    "import pandas as pd\n",
    "import random\n",
    "import matplotlib.pyplot as plt\n",
    "\n",
    "from sklearn.model_selection import train_test_split\n",
    "from sklearn.preprocessing import StandardScaler\n",
    "\n",
    "from sklearn.linear_model import LinearRegression\n",
    "from sklearn.tree import DecisionTreeRegressor\n",
    "\n",
    "from sklearn.linear_model import LogisticRegression\n",
    "from sklearn.metrics import classification_report"
   ]
  },
  {
   "cell_type": "markdown",
   "id": "c5965b9a-c018-47a8-b3d8-ef11dda73998",
   "metadata": {},
   "source": [
    "## Part A : Data Preprocessing and Imputation"
   ]
  },
  {
   "cell_type": "markdown",
   "id": "25e89554-1a3c-410d-83fe-092b863c0ef9",
   "metadata": {},
   "source": [
    "### Load and Prepare Data"
   ]
  },
  {
   "cell_type": "code",
   "execution_count": 2,
   "id": "71a18a08-2aba-4bc0-a572-b38eb0619fb1",
   "metadata": {},
   "outputs": [
    {
     "data": {
      "text/html": [
       "<div>\n",
       "<style scoped>\n",
       "    .dataframe tbody tr th:only-of-type {\n",
       "        vertical-align: middle;\n",
       "    }\n",
       "\n",
       "    .dataframe tbody tr th {\n",
       "        vertical-align: top;\n",
       "    }\n",
       "\n",
       "    .dataframe thead th {\n",
       "        text-align: right;\n",
       "    }\n",
       "</style>\n",
       "<table border=\"1\" class=\"dataframe\">\n",
       "  <thead>\n",
       "    <tr style=\"text-align: right;\">\n",
       "      <th></th>\n",
       "      <th>ID</th>\n",
       "      <th>LIMIT_BAL</th>\n",
       "      <th>SEX</th>\n",
       "      <th>EDUCATION</th>\n",
       "      <th>MARRIAGE</th>\n",
       "      <th>AGE</th>\n",
       "      <th>PAY_0</th>\n",
       "      <th>PAY_2</th>\n",
       "      <th>PAY_3</th>\n",
       "      <th>PAY_4</th>\n",
       "      <th>...</th>\n",
       "      <th>BILL_AMT4</th>\n",
       "      <th>BILL_AMT5</th>\n",
       "      <th>BILL_AMT6</th>\n",
       "      <th>PAY_AMT1</th>\n",
       "      <th>PAY_AMT2</th>\n",
       "      <th>PAY_AMT3</th>\n",
       "      <th>PAY_AMT4</th>\n",
       "      <th>PAY_AMT5</th>\n",
       "      <th>PAY_AMT6</th>\n",
       "      <th>default.payment.next.month</th>\n",
       "    </tr>\n",
       "  </thead>\n",
       "  <tbody>\n",
       "    <tr>\n",
       "      <th>0</th>\n",
       "      <td>1</td>\n",
       "      <td>20000.0</td>\n",
       "      <td>2</td>\n",
       "      <td>2</td>\n",
       "      <td>1</td>\n",
       "      <td>24</td>\n",
       "      <td>2</td>\n",
       "      <td>2</td>\n",
       "      <td>-1</td>\n",
       "      <td>-1</td>\n",
       "      <td>...</td>\n",
       "      <td>0.0</td>\n",
       "      <td>0.0</td>\n",
       "      <td>0.0</td>\n",
       "      <td>0.0</td>\n",
       "      <td>689.0</td>\n",
       "      <td>0.0</td>\n",
       "      <td>0.0</td>\n",
       "      <td>0.0</td>\n",
       "      <td>0.0</td>\n",
       "      <td>1</td>\n",
       "    </tr>\n",
       "    <tr>\n",
       "      <th>1</th>\n",
       "      <td>2</td>\n",
       "      <td>120000.0</td>\n",
       "      <td>2</td>\n",
       "      <td>2</td>\n",
       "      <td>2</td>\n",
       "      <td>26</td>\n",
       "      <td>-1</td>\n",
       "      <td>2</td>\n",
       "      <td>0</td>\n",
       "      <td>0</td>\n",
       "      <td>...</td>\n",
       "      <td>3272.0</td>\n",
       "      <td>3455.0</td>\n",
       "      <td>3261.0</td>\n",
       "      <td>0.0</td>\n",
       "      <td>1000.0</td>\n",
       "      <td>1000.0</td>\n",
       "      <td>1000.0</td>\n",
       "      <td>0.0</td>\n",
       "      <td>2000.0</td>\n",
       "      <td>1</td>\n",
       "    </tr>\n",
       "    <tr>\n",
       "      <th>2</th>\n",
       "      <td>3</td>\n",
       "      <td>90000.0</td>\n",
       "      <td>2</td>\n",
       "      <td>2</td>\n",
       "      <td>2</td>\n",
       "      <td>34</td>\n",
       "      <td>0</td>\n",
       "      <td>0</td>\n",
       "      <td>0</td>\n",
       "      <td>0</td>\n",
       "      <td>...</td>\n",
       "      <td>14331.0</td>\n",
       "      <td>14948.0</td>\n",
       "      <td>15549.0</td>\n",
       "      <td>1518.0</td>\n",
       "      <td>1500.0</td>\n",
       "      <td>1000.0</td>\n",
       "      <td>1000.0</td>\n",
       "      <td>1000.0</td>\n",
       "      <td>5000.0</td>\n",
       "      <td>0</td>\n",
       "    </tr>\n",
       "    <tr>\n",
       "      <th>3</th>\n",
       "      <td>4</td>\n",
       "      <td>50000.0</td>\n",
       "      <td>2</td>\n",
       "      <td>2</td>\n",
       "      <td>1</td>\n",
       "      <td>37</td>\n",
       "      <td>0</td>\n",
       "      <td>0</td>\n",
       "      <td>0</td>\n",
       "      <td>0</td>\n",
       "      <td>...</td>\n",
       "      <td>28314.0</td>\n",
       "      <td>28959.0</td>\n",
       "      <td>29547.0</td>\n",
       "      <td>2000.0</td>\n",
       "      <td>2019.0</td>\n",
       "      <td>1200.0</td>\n",
       "      <td>1100.0</td>\n",
       "      <td>1069.0</td>\n",
       "      <td>1000.0</td>\n",
       "      <td>0</td>\n",
       "    </tr>\n",
       "    <tr>\n",
       "      <th>4</th>\n",
       "      <td>5</td>\n",
       "      <td>50000.0</td>\n",
       "      <td>1</td>\n",
       "      <td>2</td>\n",
       "      <td>1</td>\n",
       "      <td>57</td>\n",
       "      <td>-1</td>\n",
       "      <td>0</td>\n",
       "      <td>-1</td>\n",
       "      <td>0</td>\n",
       "      <td>...</td>\n",
       "      <td>20940.0</td>\n",
       "      <td>19146.0</td>\n",
       "      <td>19131.0</td>\n",
       "      <td>2000.0</td>\n",
       "      <td>36681.0</td>\n",
       "      <td>10000.0</td>\n",
       "      <td>9000.0</td>\n",
       "      <td>689.0</td>\n",
       "      <td>679.0</td>\n",
       "      <td>0</td>\n",
       "    </tr>\n",
       "  </tbody>\n",
       "</table>\n",
       "<p>5 rows × 25 columns</p>\n",
       "</div>"
      ],
      "text/plain": [
       "   ID  LIMIT_BAL  SEX  EDUCATION  MARRIAGE  AGE  PAY_0  PAY_2  PAY_3  PAY_4  \\\n",
       "0   1    20000.0    2          2         1   24      2      2     -1     -1   \n",
       "1   2   120000.0    2          2         2   26     -1      2      0      0   \n",
       "2   3    90000.0    2          2         2   34      0      0      0      0   \n",
       "3   4    50000.0    2          2         1   37      0      0      0      0   \n",
       "4   5    50000.0    1          2         1   57     -1      0     -1      0   \n",
       "\n",
       "   ...  BILL_AMT4  BILL_AMT5  BILL_AMT6  PAY_AMT1  PAY_AMT2  PAY_AMT3  \\\n",
       "0  ...        0.0        0.0        0.0       0.0     689.0       0.0   \n",
       "1  ...     3272.0     3455.0     3261.0       0.0    1000.0    1000.0   \n",
       "2  ...    14331.0    14948.0    15549.0    1518.0    1500.0    1000.0   \n",
       "3  ...    28314.0    28959.0    29547.0    2000.0    2019.0    1200.0   \n",
       "4  ...    20940.0    19146.0    19131.0    2000.0   36681.0   10000.0   \n",
       "\n",
       "   PAY_AMT4  PAY_AMT5  PAY_AMT6  default.payment.next.month  \n",
       "0       0.0       0.0       0.0                           1  \n",
       "1    1000.0       0.0    2000.0                           1  \n",
       "2    1000.0    1000.0    5000.0                           0  \n",
       "3    1100.0    1069.0    1000.0                           0  \n",
       "4    9000.0     689.0     679.0                           0  \n",
       "\n",
       "[5 rows x 25 columns]"
      ]
     },
     "execution_count": 2,
     "metadata": {},
     "output_type": "execute_result"
    }
   ],
   "source": [
    "df = pd.read_csv('UCI_Credit_Card.csv')\n",
    "df.head()"
   ]
  },
  {
   "cell_type": "code",
   "execution_count": 3,
   "id": "204564af-0a9f-4ad5-ac0c-a2e6ced8025d",
   "metadata": {},
   "outputs": [
    {
     "data": {
      "text/plain": [
       "(30000, 25)"
      ]
     },
     "execution_count": 3,
     "metadata": {},
     "output_type": "execute_result"
    }
   ],
   "source": [
    "df.shape"
   ]
  },
  {
   "cell_type": "markdown",
   "id": "29ccef0b-cc16-4dce-8f80-04a94c482faa",
   "metadata": {},
   "source": [
    "This dataset has 30000 datapoints and 25 columns, of which one is the target variable."
   ]
  },
  {
   "cell_type": "code",
   "execution_count": 4,
   "id": "51911b88-c7c6-43d2-93d1-8849629b69b2",
   "metadata": {},
   "outputs": [
    {
     "name": "stdout",
     "output_type": "stream",
     "text": [
      "<class 'pandas.core.frame.DataFrame'>\n",
      "RangeIndex: 30000 entries, 0 to 29999\n",
      "Data columns (total 25 columns):\n",
      " #   Column                      Non-Null Count  Dtype  \n",
      "---  ------                      --------------  -----  \n",
      " 0   ID                          30000 non-null  int64  \n",
      " 1   LIMIT_BAL                   30000 non-null  float64\n",
      " 2   SEX                         30000 non-null  int64  \n",
      " 3   EDUCATION                   30000 non-null  int64  \n",
      " 4   MARRIAGE                    30000 non-null  int64  \n",
      " 5   AGE                         30000 non-null  int64  \n",
      " 6   PAY_0                       30000 non-null  int64  \n",
      " 7   PAY_2                       30000 non-null  int64  \n",
      " 8   PAY_3                       30000 non-null  int64  \n",
      " 9   PAY_4                       30000 non-null  int64  \n",
      " 10  PAY_5                       30000 non-null  int64  \n",
      " 11  PAY_6                       30000 non-null  int64  \n",
      " 12  BILL_AMT1                   30000 non-null  float64\n",
      " 13  BILL_AMT2                   30000 non-null  float64\n",
      " 14  BILL_AMT3                   30000 non-null  float64\n",
      " 15  BILL_AMT4                   30000 non-null  float64\n",
      " 16  BILL_AMT5                   30000 non-null  float64\n",
      " 17  BILL_AMT6                   30000 non-null  float64\n",
      " 18  PAY_AMT1                    30000 non-null  float64\n",
      " 19  PAY_AMT2                    30000 non-null  float64\n",
      " 20  PAY_AMT3                    30000 non-null  float64\n",
      " 21  PAY_AMT4                    30000 non-null  float64\n",
      " 22  PAY_AMT5                    30000 non-null  float64\n",
      " 23  PAY_AMT6                    30000 non-null  float64\n",
      " 24  default.payment.next.month  30000 non-null  int64  \n",
      "dtypes: float64(13), int64(12)\n",
      "memory usage: 5.7 MB\n"
     ]
    }
   ],
   "source": [
    "df.info()"
   ]
  },
  {
   "cell_type": "markdown",
   "id": "05b0ac0f-26c3-44de-b43b-d46ee7149b1a",
   "metadata": {},
   "source": [
    "We can see that, **initially, there are no null values** in the dataset."
   ]
  },
  {
   "cell_type": "markdown",
   "id": "8edb6272-6334-4eb5-b3cd-545fd6cd012b",
   "metadata": {},
   "source": [
    "### Artificially Introducing MAR Missing values"
   ]
  },
  {
   "cell_type": "markdown",
   "id": "64b49609-60f7-476b-99b9-f541c4fbf655",
   "metadata": {},
   "source": [
    "We choose the columns **BILL_AMT2** and **PAY_AMT5** to introduce MAR values.  \n",
    "We choose the column **AGE** to be the dependency column on which the absence of data depends on."
   ]
  },
  {
   "cell_type": "code",
   "execution_count": 5,
   "id": "7d97ff6b-453d-4aa0-9e7d-94cf6e7b5f9b",
   "metadata": {},
   "outputs": [],
   "source": [
    "cols_for_MAR = ['BILL_AMT2', 'PAY_AMT5']\n",
    "dependency_col = ['AGE']"
   ]
  },
  {
   "cell_type": "markdown",
   "id": "e0e615e4-1d85-4ed5-b4b2-6532a3b7bcd8",
   "metadata": {},
   "source": [
    "We define a function to introduce MAR.  \n",
    "**MAR (Missing At Random) means that the missingness in one column depends on the values of another column** - not completely random but correlated with other features."
   ]
  },
  {
   "cell_type": "code",
   "execution_count": 6,
   "id": "22109fca-d158-4ba8-83eb-4b4228a82ba7",
   "metadata": {},
   "outputs": [],
   "source": [
    "def introduce_MAR(data, columns, dependency_col):\n",
    "    np.random.seed(27)\n",
    "    df_mar = data.copy()\n",
    "\n",
    "    for col in columns:\n",
    "        # Create missingness probability based on dependency column\n",
    "        dependency_values = df_mar[dependency_col]\n",
    "\n",
    "        #Normalize dependency values to better compute probability values\n",
    "        scaler = StandardScaler()\n",
    "        dependency_scaled = scaler.fit_transform(dependency_values.values.reshape(-1, 1)).flatten()\n",
    "\n",
    "        # Convert to probabilities (Higher absolute values ==> higher probabilities)\n",
    "        missing_probs = 1 / (1 + np.exp(-dependency_scaled))  # Sigmoid function\n",
    "        missing_probs = (missing_probs - missing_probs.min()) / (missing_probs.max() - missing_probs.min()) * 0.075 * 2\n",
    "\n",
    "        mask = np.random.random(len(df_mar)) < missing_probs\n",
    "        df_mar.loc[mask, col] = np.nan\n",
    "        \n",
    "    return df_mar\n",
    "    "
   ]
  },
  {
   "cell_type": "code",
   "execution_count": 7,
   "id": "6db0897e-306e-4817-b256-141080bbbd07",
   "metadata": {},
   "outputs": [],
   "source": [
    "df_missing = introduce_MAR(df, cols_for_MAR, dependency_col)"
   ]
  },
  {
   "cell_type": "markdown",
   "id": "f0fb74ac-2390-49ba-81a6-3d2219e803c7",
   "metadata": {},
   "source": [
    "### Verify number of missing values"
   ]
  },
  {
   "cell_type": "code",
   "execution_count": 8,
   "id": "c7a30341-7913-4b22-95de-8ff1176d9c6e",
   "metadata": {},
   "outputs": [
    {
     "data": {
      "text/plain": [
       "BILL_AMT2    1704\n",
       "PAY_AMT5     1672\n",
       "dtype: int64"
      ]
     },
     "execution_count": 8,
     "metadata": {},
     "output_type": "execute_result"
    }
   ],
   "source": [
    "df_missing[cols_for_MAR].isnull().sum()"
   ]
  },
  {
   "cell_type": "code",
   "execution_count": 9,
   "id": "ad62c47d-6bdd-4c18-8153-2867615bfe27",
   "metadata": {},
   "outputs": [
    {
     "data": {
      "text/plain": [
       "np.int64(3249)"
      ]
     },
     "execution_count": 9,
     "metadata": {},
     "output_type": "execute_result"
    }
   ],
   "source": [
    "df_missing.isnull().any(axis=1).sum()"
   ]
  },
  {
   "cell_type": "markdown",
   "id": "718efc3e-2625-4ddd-8a22-e88606371f8c",
   "metadata": {},
   "source": [
    "We can see that, there are approximately 1700 missing values in each of the 2 columns, making a total of around 3250 rows with missing values in the entire dataset(since there will be some rows where both column values are missing)."
   ]
  },
  {
   "cell_type": "markdown",
   "id": "a73965b5-3e64-4aa6-b69e-03ae4c1787db",
   "metadata": {},
   "source": [
    "### Divide dataset into features and target"
   ]
  },
  {
   "cell_type": "code",
   "execution_count": 10,
   "id": "6a5ca2cd-ed00-4884-a771-9995ef499f0c",
   "metadata": {},
   "outputs": [],
   "source": [
    "X = df_missing.drop(columns = ['default.payment.next.month'])\n",
    "y = df_missing['default.payment.next.month']"
   ]
  },
  {
   "cell_type": "code",
   "execution_count": 11,
   "id": "4a607135-50b4-4be5-b4b7-da44dc9ac8dc",
   "metadata": {},
   "outputs": [
    {
     "data": {
      "text/plain": [
       "((30000, 24), (30000,))"
      ]
     },
     "execution_count": 11,
     "metadata": {},
     "output_type": "execute_result"
    }
   ],
   "source": [
    "X.shape, y.shape"
   ]
  },
  {
   "cell_type": "markdown",
   "id": "3caa5609-f950-4f2a-8d3a-ab4c29618ece",
   "metadata": {},
   "source": [
    "## Imputation Strategy 1 : Baseline Imputation"
   ]
  },
  {
   "cell_type": "code",
   "execution_count": 12,
   "id": "ed5b6e95-8152-45ed-ac5e-f4bbc1d55a81",
   "metadata": {},
   "outputs": [],
   "source": [
    "df_A = df_missing.copy()"
   ]
  },
  {
   "cell_type": "markdown",
   "id": "ef27dcc3-fd2b-498c-9b72-33d7dc863f8b",
   "metadata": {},
   "source": [
    "#### Replace missing values with median"
   ]
  },
  {
   "cell_type": "code",
   "execution_count": 13,
   "id": "966c759b-0419-4b4a-b9d8-71f1c29364db",
   "metadata": {},
   "outputs": [
    {
     "data": {
      "text/plain": [
       "np.int64(0)"
      ]
     },
     "execution_count": 13,
     "metadata": {},
     "output_type": "execute_result"
    }
   ],
   "source": [
    "df_A['BILL_AMT2'] = df_A['BILL_AMT2'].fillna(df_A['BILL_AMT2'].median())\n",
    "df_A['PAY_AMT5'] = df_A['PAY_AMT5'].fillna(df_A['PAY_AMT5'].median())\n",
    "\n",
    "\n",
    "df_A.isnull().any(axis=1).sum()"
   ]
  },
  {
   "cell_type": "markdown",
   "id": "f543a211-dec0-4cd9-8838-904b2ae7eca4",
   "metadata": {},
   "source": [
    "### Why is Median Imputation preferred over Mean Imputation"
   ]
  },
  {
   "cell_type": "markdown",
   "id": "0aac36d5-1e74-402b-a283-f55a222de697",
   "metadata": {},
   "source": [
    "Mean Imputation replaces missing values with the average of available values.  \n",
    "Median Imputation replaces missing values with the middle value.\n",
    "\n",
    "Why Median imputation is preferred:  \n",
    "- Median is robust to outliers whereas mean is strogly affected by outliers.\n",
    "- If the features are skewed, replacing missing values with the mean will pull the distribution towards the direction of the skew.\n",
    "- Median Imputation reduces bias and variance distortion but mean imputation can highly lower variance in the data"
   ]
  },
  {
   "cell_type": "markdown",
   "id": "86b3a1c8-44f4-449c-b4d4-d1ca6f077099",
   "metadata": {},
   "source": [
    "## Imputation Strategy 2 : Linear Regression"
   ]
  },
  {
   "cell_type": "code",
   "execution_count": 14,
   "id": "97434e9e-0ad4-4012-a978-5ec72869d5b0",
   "metadata": {},
   "outputs": [],
   "source": [
    "df_B = df_missing.copy()"
   ]
  },
  {
   "cell_type": "markdown",
   "id": "77b1c145-6237-4741-b92d-a9f2399b3e31",
   "metadata": {},
   "source": [
    "We choose the column BILL_AMT2 for imputing the missing values"
   ]
  },
  {
   "cell_type": "markdown",
   "id": "57d4cccd-4165-451e-9665-a0fc67e74f12",
   "metadata": {},
   "source": [
    "Divide into train and test data.  \n",
    "Train data is the datapoints where BILL_AMT2 value is not null, and   \n",
    "Test Data is the datapoints where BILL_AMT2 value is null."
   ]
  },
  {
   "cell_type": "code",
   "execution_count": 15,
   "id": "83d191bb-e697-4045-86cf-1756932bc375",
   "metadata": {},
   "outputs": [],
   "source": [
    "df_B_train = df_B[df_B['BILL_AMT2'].notnull()]\n",
    "df_B_test = df_B[df_B['BILL_AMT2'].isnull()]"
   ]
  },
  {
   "cell_type": "code",
   "execution_count": 16,
   "id": "ba76f13d-92cd-4e77-9b48-ce246d6b6519",
   "metadata": {},
   "outputs": [],
   "source": [
    "y_B_train = df_B_train['BILL_AMT2']\n",
    "X_B_train = df_B_train.drop(columns = ['BILL_AMT2', 'PAY_AMT5', 'default.payment.next.month'])\n",
    "\n",
    "X_B_test = df_B_test.drop(columns = ['BILL_AMT2', 'PAY_AMT5', 'default.payment.next.month'])"
   ]
  },
  {
   "cell_type": "code",
   "execution_count": 17,
   "id": "e3ffea18-3efc-4380-b7b7-0756a790b21c",
   "metadata": {},
   "outputs": [],
   "source": [
    "scaler = StandardScaler()\n",
    "X_B_train = scaler.fit_transform(X_B_train)\n",
    "X_B_test = scaler.transform(X_B_test)"
   ]
  },
  {
   "cell_type": "code",
   "execution_count": 18,
   "id": "7431dd67-08f7-4d12-b078-1ba18bd29806",
   "metadata": {},
   "outputs": [],
   "source": [
    "model = LinearRegression()\n",
    "\n",
    "model.fit(X_B_train, y_B_train)\n",
    "\n",
    "df_B.loc[df_B['BILL_AMT2'].isnull(), 'BILL_AMT2'] = model.predict(X_B_test)"
   ]
  },
  {
   "cell_type": "markdown",
   "id": "8904914a-88b1-43bd-9428-f2b0d68ed686",
   "metadata": {},
   "source": [
    "We changed BILL_AMT2 column to be the output of linear regression, and we are changing PAY_AMT5 back to its original form."
   ]
  },
  {
   "cell_type": "code",
   "execution_count": 19,
   "id": "582e210f-529b-46e8-81b6-45ecdc98c949",
   "metadata": {},
   "outputs": [
    {
     "data": {
      "text/plain": [
       "(np.int64(0), np.int64(0))"
      ]
     },
     "execution_count": 19,
     "metadata": {},
     "output_type": "execute_result"
    }
   ],
   "source": [
    "df_B['PAY_AMT5'] = df['PAY_AMT5']\n",
    "df_B['BILL_AMT2'].isnull().sum() , df_B['PAY_AMT5'].isnull().sum()"
   ]
  },
  {
   "cell_type": "markdown",
   "id": "fb09f0e5-de30-43a0-8742-ffe243e19fcc",
   "metadata": {},
   "source": [
    "We can see that there are no null values remaining in the dataset."
   ]
  },
  {
   "cell_type": "markdown",
   "id": "9d34e65a-14dd-4ca7-9004-48f9f5b5224d",
   "metadata": {},
   "source": [
    "### Underlying Assumption of Regression Imputation"
   ]
  },
  {
   "cell_type": "markdown",
   "id": "ba2b93e7-a615-477f-8ef2-cfd302bedbc2",
   "metadata": {},
   "source": [
    "The underlying assumption of Regression Imputation is that the missing values are Missing At Random (MAR). This means the likelihood of a data point being missing depends only on the values of other observed variables, not on the missing value itself.  \n",
    "In such cases, the observed data contain enough information to model and predict the missing values accurately.  \n",
    "For example, if BILL_AMT2 is missing more often for customers with low LIMIT_BAL, the missingness can be explained using that variable.  \n",
    "Regression imputation works well under this assumption because it uses the relationships among existing variables to estimate plausible values for the missing ones.  "
   ]
  },
  {
   "cell_type": "markdown",
   "id": "45d40b17-0698-4402-92fa-200a5be58e94",
   "metadata": {},
   "source": [
    "## Imputation Strategy 3 : Non-Linear Regression"
   ]
  },
  {
   "cell_type": "code",
   "execution_count": 20,
   "id": "35755eb1-b230-4019-891a-4fd289deb61e",
   "metadata": {},
   "outputs": [],
   "source": [
    "df_C = df_missing.copy()"
   ]
  },
  {
   "cell_type": "code",
   "execution_count": 21,
   "id": "00c8d711-3088-4b30-99e8-cc3715ba9bef",
   "metadata": {},
   "outputs": [],
   "source": [
    "df_C_train = df_B[df_C['BILL_AMT2'].notnull()]\n",
    "df_C_test = df_B[df_C['BILL_AMT2'].isnull()]"
   ]
  },
  {
   "cell_type": "code",
   "execution_count": 22,
   "id": "60390b8d-672b-404c-b1d7-2c93c156e174",
   "metadata": {},
   "outputs": [],
   "source": [
    "y_C_train = df_C_train['BILL_AMT2']\n",
    "X_C_train = df_C_train.drop(columns = ['BILL_AMT2', 'PAY_AMT5', 'default.payment.next.month'])\n",
    "\n",
    "X_C_test = df_C_test.drop(columns = ['BILL_AMT2', 'PAY_AMT5', 'default.payment.next.month'])"
   ]
  },
  {
   "cell_type": "code",
   "execution_count": 23,
   "id": "8d348226-ddff-498d-94b3-1094751bee32",
   "metadata": {},
   "outputs": [],
   "source": [
    "scaler = StandardScaler()\n",
    "X_C_train = scaler.fit_transform(X_C_train)\n",
    "X_C_test = scaler.transform(X_C_test)"
   ]
  },
  {
   "cell_type": "code",
   "execution_count": 24,
   "id": "6942e4a9-7adf-473e-a078-2b532cb1afa5",
   "metadata": {},
   "outputs": [],
   "source": [
    "model = DecisionTreeRegressor()\n",
    "\n",
    "model.fit(X_C_train, y_C_train)\n",
    "\n",
    "df_C.loc[df_C['BILL_AMT2'].isnull(), 'BILL_AMT2'] = model.predict(X_C_test)"
   ]
  },
  {
   "cell_type": "markdown",
   "id": "d4f95a61-d71d-487e-9a0b-8ea2b0f3e1ac",
   "metadata": {},
   "source": [
    "We changed BILL_AMT2 column to be the output of Decision Tree regression, and we are changing PAY_AMT5 back to its original form."
   ]
  },
  {
   "cell_type": "code",
   "execution_count": 25,
   "id": "7b1cd77f-11ed-4ed0-a1e2-ac863e7e5d75",
   "metadata": {},
   "outputs": [
    {
     "data": {
      "text/plain": [
       "(np.int64(0), np.int64(0))"
      ]
     },
     "execution_count": 25,
     "metadata": {},
     "output_type": "execute_result"
    }
   ],
   "source": [
    "df_C['PAY_AMT5'] = df['PAY_AMT5']\n",
    "df_C['BILL_AMT2'].isnull().sum(), df_B['PAY_AMT5'].isnull().sum()"
   ]
  },
  {
   "cell_type": "markdown",
   "id": "ef5df893-977b-44d7-9faa-7992686886ac",
   "metadata": {},
   "source": [
    "We can see that there are no null values remaining in the dataset."
   ]
  },
  {
   "cell_type": "markdown",
   "id": "be54c04b-d9d6-4f8f-ac1d-cb16e27cdcf6",
   "metadata": {},
   "source": [
    "## Part B : Model Training and Performance Assessment"
   ]
  },
  {
   "cell_type": "markdown",
   "id": "2295454a-3be4-4e65-ae87-60d45d275fc5",
   "metadata": {},
   "source": [
    "### Data Split"
   ]
  },
  {
   "cell_type": "code",
   "execution_count": 26,
   "id": "d38a8688-d83f-41ca-86c5-7fef5f9835af",
   "metadata": {},
   "outputs": [],
   "source": [
    "X_A = df_A.drop(columns = ['default.payment.next.month'])\n",
    "y_A = df_A['default.payment.next.month']\n",
    "X_train_A, X_test_A, y_train_A, y_test_A = train_test_split(X_A, y_A, test_size=0.2, random_state = 42, stratify = y)"
   ]
  },
  {
   "cell_type": "code",
   "execution_count": 27,
   "id": "729434d4-7feb-4d3d-9e54-9f39d49a334c",
   "metadata": {},
   "outputs": [],
   "source": [
    "X_B = df_B.drop(columns = ['default.payment.next.month'])\n",
    "y_B = df_B['default.payment.next.month']\n",
    "X_train_B, X_test_B, y_train_B, y_test_B = train_test_split(X_B, y_B, test_size=0.2, random_state = 42, stratify = y)"
   ]
  },
  {
   "cell_type": "code",
   "execution_count": 28,
   "id": "51787168-fe21-4fd7-ad0f-d3f319505ac6",
   "metadata": {},
   "outputs": [],
   "source": [
    "X_C = df_C.drop(columns = ['default.payment.next.month'])\n",
    "y_C = df_C['default.payment.next.month']\n",
    "X_train_C, X_test_C, y_train_C, y_test_C = train_test_split(X_C, y_C, test_size=0.2, random_state = 42, stratify = y)"
   ]
  },
  {
   "cell_type": "markdown",
   "id": "f8b13928-db00-4976-87c9-cf74209ffc1f",
   "metadata": {},
   "source": [
    "### 4th dataset by deleting rows with missing values"
   ]
  },
  {
   "cell_type": "code",
   "execution_count": 29,
   "id": "e819ca9e-6494-4db4-8aad-689ce4ed28e3",
   "metadata": {},
   "outputs": [],
   "source": [
    "df_D = df_missing.dropna().copy()"
   ]
  },
  {
   "cell_type": "code",
   "execution_count": 30,
   "id": "c4ffcf51-868e-489b-8e35-c834e18a1a35",
   "metadata": {},
   "outputs": [
    {
     "name": "stdout",
     "output_type": "stream",
     "text": [
      "Original shape: (30000, 25)\n",
      "After deletion: (26751, 25)\n"
     ]
    }
   ],
   "source": [
    "print(\"Original shape:\", df_missing.shape)\n",
    "print(\"After deletion:\", df_D.shape)"
   ]
  },
  {
   "cell_type": "code",
   "execution_count": 31,
   "id": "7095cea5-3ccd-40eb-89d4-440396544b34",
   "metadata": {},
   "outputs": [],
   "source": [
    "X_D = df_D.drop(columns = ['default.payment.next.month'])\n",
    "y_D = df_D['default.payment.next.month']\n",
    "\n",
    "X_train_D, X_test_D, y_train_D, y_test_D = train_test_split(X_D, y_D, test_size=0.2, random_state = 42, stratify = y_D)"
   ]
  },
  {
   "cell_type": "markdown",
   "id": "6124c2bc-46a4-4c06-9a63-62c3aea9bfd4",
   "metadata": {},
   "source": [
    "### Classifier Setup"
   ]
  },
  {
   "cell_type": "code",
   "execution_count": 32,
   "id": "7e0db4cb-cbd6-4452-adec-186fd2316b07",
   "metadata": {},
   "outputs": [],
   "source": [
    "def scaled_features(X_tr, X_te):\n",
    "    scaler = StandardScaler()\n",
    "    X_tr_scaled = scaler.fit_transform(X_tr)\n",
    "    X_te_scaled = scaler.transform(X_te)\n",
    "\n",
    "    return X_tr_scaled, X_te_scaled"
   ]
  },
  {
   "cell_type": "code",
   "execution_count": 33,
   "id": "2acf5505-d269-4ec5-861f-db8d5a6f5afa",
   "metadata": {},
   "outputs": [],
   "source": [
    "X_train_A_scaled , X_test_A_scaled = scaled_features(X_train_A, X_test_A)\n",
    "\n",
    "X_train_B_scaled , X_test_B_scaled = scaled_features(X_train_B, X_test_B)\n",
    "\n",
    "X_train_C_scaled , X_test_C_scaled = scaled_features(X_train_C, X_test_C)\n",
    "\n",
    "X_train_D_scaled , X_test_D_scaled = scaled_features(X_train_D, X_test_D)"
   ]
  },
  {
   "cell_type": "markdown",
   "id": "bd579010-a648-4725-891c-ddce72d10ce8",
   "metadata": {},
   "source": [
    "### Model Evaluation"
   ]
  },
  {
   "cell_type": "code",
   "execution_count": 34,
   "id": "c246a670-99ab-4ee8-a207-c30c08bef26a",
   "metadata": {},
   "outputs": [],
   "source": [
    "def evaluate_Log_reg_model(X_tr, X_te, y_tr, y_te):\n",
    "    model = LogisticRegression(class_weight = 'balanced', random_state = 44)\n",
    "    model.fit(X_tr, y_tr)\n",
    "\n",
    "    y_pred = model.predict(X_te)\n",
    "\n",
    "    return y_pred"
   ]
  },
  {
   "cell_type": "code",
   "execution_count": 35,
   "id": "af9adcf0-d412-4ad9-9315-4a98613f3093",
   "metadata": {},
   "outputs": [
    {
     "name": "stdout",
     "output_type": "stream",
     "text": [
      "Classification Report for Model A:\n",
      "              precision    recall  f1-score   support\n",
      "\n",
      "           0       0.87      0.70      0.77      4673\n",
      "           1       0.37      0.62      0.46      1327\n",
      "\n",
      "    accuracy                           0.68      6000\n",
      "   macro avg       0.62      0.66      0.62      6000\n",
      "weighted avg       0.76      0.68      0.70      6000\n",
      "\n"
     ]
    }
   ],
   "source": [
    "print (\"Classification Report for Model A:\")\n",
    "y_pred_A = evaluate_Log_reg_model(X_train_A_scaled, X_test_A_scaled, y_train_A, y_test_A)\n",
    "\n",
    "classification_report_A = classification_report(y_test_A, y_pred_A)\n",
    "print (classification_report_A)"
   ]
  },
  {
   "cell_type": "code",
   "execution_count": 36,
   "id": "419b1978-a69b-4e20-8d07-61a432c852aa",
   "metadata": {},
   "outputs": [
    {
     "name": "stdout",
     "output_type": "stream",
     "text": [
      "Classification Report for Model B:\n",
      "              precision    recall  f1-score   support\n",
      "\n",
      "           0       0.87      0.70      0.77      4673\n",
      "           1       0.37      0.62      0.46      1327\n",
      "\n",
      "    accuracy                           0.68      6000\n",
      "   macro avg       0.62      0.66      0.62      6000\n",
      "weighted avg       0.76      0.68      0.70      6000\n",
      "\n"
     ]
    }
   ],
   "source": [
    "print (\"Classification Report for Model B:\")\n",
    "y_pred_B = evaluate_Log_reg_model(X_train_B_scaled, X_test_B_scaled, y_train_B, y_test_B)\n",
    "\n",
    "classification_report_B = classification_report(y_test_B, y_pred_B)\n",
    "print (classification_report_B)"
   ]
  },
  {
   "cell_type": "code",
   "execution_count": 37,
   "id": "64b926e5-907e-4bbd-b705-57efa4e1bc61",
   "metadata": {},
   "outputs": [
    {
     "name": "stdout",
     "output_type": "stream",
     "text": [
      "Classification Report for Model C:\n",
      "              precision    recall  f1-score   support\n",
      "\n",
      "           0       0.87      0.70      0.77      4673\n",
      "           1       0.37      0.62      0.46      1327\n",
      "\n",
      "    accuracy                           0.68      6000\n",
      "   macro avg       0.62      0.66      0.62      6000\n",
      "weighted avg       0.76      0.68      0.70      6000\n",
      "\n"
     ]
    }
   ],
   "source": [
    "print (\"Classification Report for Model C:\")\n",
    "y_pred_C = evaluate_Log_reg_model(X_train_C_scaled, X_test_C_scaled, y_train_C, y_test_C)\n",
    "\n",
    "classification_report_C = classification_report(y_test_C, y_pred_C)\n",
    "print (classification_report_C)"
   ]
  },
  {
   "cell_type": "code",
   "execution_count": 38,
   "id": "5111b537-7ad4-4b73-b1b5-74f0a66df356",
   "metadata": {},
   "outputs": [
    {
     "name": "stdout",
     "output_type": "stream",
     "text": [
      "Classification Report for Model D:\n",
      "              precision    recall  f1-score   support\n",
      "\n",
      "           0       0.88      0.70      0.78      4173\n",
      "           1       0.38      0.65      0.48      1178\n",
      "\n",
      "    accuracy                           0.69      5351\n",
      "   macro avg       0.63      0.68      0.63      5351\n",
      "weighted avg       0.77      0.69      0.71      5351\n",
      "\n"
     ]
    }
   ],
   "source": [
    "print (\"Classification Report for Model D:\")\n",
    "y_pred_D = evaluate_Log_reg_model(X_train_D_scaled, X_test_D_scaled, y_train_D, y_test_D)\n",
    "\n",
    "classification_report_D = classification_report(y_test_D, y_pred_D)\n",
    "print (classification_report_D)"
   ]
  },
  {
   "cell_type": "markdown",
   "id": "0064afb8-a0ac-40b8-915a-58ac1cd185ab",
   "metadata": {},
   "source": [
    "## Part C : Comparative Analysis"
   ]
  },
  {
   "cell_type": "markdown",
   "id": "f0140f64-be4d-4fae-ae12-aecc6948c95c",
   "metadata": {},
   "source": [
    "### Results Comparison"
   ]
  },
  {
   "cell_type": "code",
   "execution_count": 39,
   "id": "a8f43ee5-e1f8-470e-a6ee-4a03c9054dd1",
   "metadata": {},
   "outputs": [],
   "source": [
    "def create_comparison_table(class_reports, model_names):\n",
    "    \"\"\"\n",
    "    Create a comparison table from stored classification reports\n",
    "    \n",
    "    Parameters:\n",
    "    class_reports: list of classification report dictionaries\n",
    "    model_names: list of model names ['Median Imputation', 'Linear Regression Imputation', ...]\n",
    "    \"\"\"\n",
    "    \n",
    "    comparison_data = []\n",
    "    \n",
    "    for i, (model_name, report) in enumerate(zip(model_names, class_reports)):\n",
    "        # Extract metrics for both classes\n",
    "        metrics_0 = report['0']\n",
    "        metrics_1 = report['1']\n",
    "        accuracy = report['accuracy']\n",
    "        macro_avg = report['macro avg']\n",
    "        weighted_avg = report['weighted avg']\n",
    "        \n",
    "        model_metrics = {\n",
    "            'Model': model_name,\n",
    "            'Accuracy': f\"{accuracy:.4f}\",\n",
    "            # Class 0 (Non-Default) metrics\n",
    "            'Precision_0': f\"{metrics_0['precision']:.4f}\",\n",
    "            'Recall_0': f\"{metrics_0['recall']:.4f}\",\n",
    "            'F1_0': f\"{metrics_0['f1-score']:.4f}\",\n",
    "            # Class 1 (Default) metrics - MOST IMPORTANT\n",
    "            'Precision_1': f\"{metrics_1['precision']:.4f}\",\n",
    "            'Recall_1': f\"{metrics_1['recall']:.4f}\",\n",
    "            'F1_1': f\"{metrics_1['f1-score']:.4f}\",\n",
    "            # Average metrics\n",
    "            'Macro_Avg_F1': f\"{macro_avg['f1-score']:.4f}\",\n",
    "            'Weighted_Avg_F1': f\"{weighted_avg['f1-score']:.4f}\",\n",
    "            'Support_1': int(metrics_1['support'])  # Number of actual defaults\n",
    "        }\n",
    "        \n",
    "        comparison_data.append(model_metrics)\n",
    "    \n",
    "    # Create DataFrame\n",
    "    comparison_df = pd.DataFrame(comparison_data)\n",
    "    \n",
    "    return comparison_df"
   ]
  },
  {
   "cell_type": "code",
   "execution_count": 40,
   "id": "60afeff8-01e7-406f-b483-9509cbb0af86",
   "metadata": {},
   "outputs": [
    {
     "name": "stdout",
     "output_type": "stream",
     "text": [
      "Comparison Table:\n",
      "                           Model Accuracy Precision_0 Recall_0   F1_0 Precision_1 Recall_1   F1_1 Macro_Avg_F1 Weighted_Avg_F1  Support_1\n",
      "               Median Imputation   0.6802      0.8656   0.6976 0.7726      0.3675   0.6187 0.4611       0.6169          0.7037       1327\n",
      "    Linear Regression Imputation   0.6813      0.8667   0.6983 0.7734      0.3691   0.6217 0.4632       0.6183          0.7048       1327\n",
      "Non-Linear Regression Imputation   0.6815      0.8667   0.6985 0.7736      0.3693   0.6217 0.4634       0.6185          0.7049       1327\n",
      "               Listwise Deletion   0.6900      0.8763   0.7014 0.7792      0.3804   0.6494 0.4798       0.6295          0.7133       1178\n"
     ]
    }
   ],
   "source": [
    "classification_report_A = classification_report(y_test_A, y_pred_A, output_dict = True)\n",
    "classification_report_B = classification_report(y_test_B, y_pred_B, output_dict = True)\n",
    "classification_report_C = classification_report(y_test_C, y_pred_C, output_dict = True)\n",
    "classification_report_D = classification_report(y_test_D, y_pred_D, output_dict = True)\n",
    "\n",
    "class_reports = [classification_report_A, classification_report_B, classification_report_C, classification_report_D]\n",
    "model_names = ['Median Imputation', 'Linear Regression Imputation', 'Non-Linear Regression Imputation', 'Listwise Deletion']\n",
    "\n",
    "comparison_table = create_comparison_table(class_reports, model_names)\n",
    "print(\"Comparison Table:\")\n",
    "print(comparison_table.to_string(index=False))"
   ]
  },
  {
   "cell_type": "code",
   "execution_count": 41,
   "id": "e54c831f-f845-49de-938d-d1a55cd061b4",
   "metadata": {},
   "outputs": [
    {
     "data": {
      "image/png": "[encoded data removed]",
      "text/plain": [
       "<Figure size 1500x800 with 1 Axes>"
      ]
     },
     "metadata": {},
     "output_type": "display_data"
    }
   ],
   "source": [
    "def plot_side_by_side_metrics(comparison_table):\n",
    "    \"\"\"\n",
    "    Create a comprehensive side-by-side comparison plot\n",
    "    \"\"\"\n",
    "    # Convert to numeric\n",
    "    plot_df = comparison_table.copy()\n",
    "    for col in ['Accuracy', 'Precision_1', 'Recall_1', 'F1_1', 'Weighted_Avg_F1']:\n",
    "        plot_df[col] = plot_df[col].astype(float)\n",
    "    \n",
    "    # Set up the plot\n",
    "    fig, ax = plt.subplots(figsize=(15, 8))\n",
    "    \n",
    "    # Metrics to plot\n",
    "    metrics = ['Accuracy', 'Precision_1', 'Recall_1', 'F1_1', 'Weighted_Avg_F1']\n",
    "    metric_labels = ['Accuracy', 'Precision\\n(Class 1)', 'Recall\\n(Class 1)', 'F1-Score\\n(Class 1)', 'Weighted F1']\n",
    "    \n",
    "    # Bar positions\n",
    "    x = np.arange(len(metrics))\n",
    "    width = 0.22  # Width of each bar\n",
    "    models = plot_df['Model'].tolist()\n",
    "    \n",
    "    # Create bars for each model\n",
    "    for i, model in enumerate(models):\n",
    "        values = [plot_df.loc[plot_df['Model'] == model, metric].values[0] for metric in metrics]\n",
    "        offset = (i - len(models)/2 + 0.5) * width\n",
    "        bars = ax.bar(x + offset, values, width, label=model, alpha=0.8)\n",
    "        \n",
    "        # Add value labels on bars\n",
    "        for bar, value in zip(bars, values):\n",
    "            height = bar.get_height()\n",
    "            ax.text(bar.get_x() + bar.get_width()/2., height + 0.01,\n",
    "                   f'{value:.3f}', ha='center', va='bottom', fontsize=9)\n",
    "    \n",
    "    # Customize the plot\n",
    "    ax.set_xlabel('Metrics', fontweight='bold')\n",
    "    ax.set_ylabel('Score', fontweight='bold')\n",
    "    ax.set_title('Comprehensive Model Performance Comparison', fontsize=14, fontweight='bold')\n",
    "    ax.set_xticks(x)\n",
    "    ax.set_xticklabels(metric_labels)\n",
    "    ax.set_ylim(0, 1.1)\n",
    "    ax.legend(bbox_to_anchor=(1.05, 1), loc='upper left')\n",
    "    ax.grid(axis='y', alpha=0.3)\n",
    "    \n",
    "    plt.tight_layout()\n",
    "    plt.show()\n",
    "\n",
    "plot_side_by_side_metrics(comparison_table)"
   ]
  },
  {
   "cell_type": "markdown",
   "id": "5b110523-aa62-4586-9772-5f83e77a1632",
   "metadata": {},
   "source": [
    "## Efficacy Discussion"
   ]
  },
  {
   "cell_type": "markdown",
   "id": "6398d27c-9d99-4622-a05a-c0c4bfb140ea",
   "metadata": {},
   "source": [
    "### Trade-off between Listwise Deletion and Imputation Models"
   ]
  },
  {
   "cell_type": "markdown",
   "id": "5030d6c4-8dbd-4661-90d6-5ad7c7b96087",
   "metadata": {},
   "source": [
    "Listwise Deletion (Model D) achieved the highest overall accuracy (0.6900) and best F1-scores among all models. However, this comes with a significant trade-off — the sample size reduced from 1327 to 1178, meaning valuable data was discarded.\n",
    "While this smaller, complete dataset might lead to cleaner patterns and slightly better performance, it also introduces bias if the missingness is not completely random. In real-world scenarios, this can reduce generalizability, as the model is trained on a less representative subset.\n",
    "In contrast, imputation methods (Models A–C) retain the full dataset and preserve statistical power, even though their performance metrics are slightly lower (Accuracy ≈ 0.68 vs 0.69).\n",
    "\n",
    "→ Summary:\n",
    "\n",
    "Listwise Deletion: Slightly better performance, but risky due to data loss and potential bias.\n",
    "\n",
    "Imputation: Slightly lower metrics, but safer and more robust for preserving information."
   ]
  },
  {
   "cell_type": "markdown",
   "id": "e34da89f-862c-4a45-b299-f9c79052f0c8",
   "metadata": {},
   "source": [
    "### Why might Model D perform poorly even if the imputed models perform worse?"
   ]
  },
  {
   "cell_type": "markdown",
   "id": "0abe1ae2-8676-4206-8c89-9130ae17dac9",
   "metadata": {},
   "source": [
    "1. **Loss of data → lower statistical power**\n",
    "Dropping rows removes information. With fewer samples the model may be less stable and less able to learn rare-but-important patterns — especially for minority classes.\n",
    "\n",
    "2. **Selection bias from non-random missingness**\n",
    "If the rows that are missing are not Missing Completely At Random (MCAR) — e.g., missingness depends on the outcome or on a covariate — then the remaining dataset is a biased subset. A model trained on that biased subset can report deceptively good metrics on similar biased holdouts but fail on real-world data.\n",
    "\n",
    "3. **Reduced ability to detect minority-class behavior**\n",
    "If missingness disproportionately affects one class (often the minority), deletion removes many informative examples for that class → recall/F1 for that class may look okay in the reduced dataset but fail in deployment.\n",
    "\n",
    "4. **Unreliable uncertainty estimates**\n",
    "With fewer examples, confidence intervals widen and models become less robust to new data or domain shifts. Reported point metrics (accuracy, F1) hide this increased uncertainty."
   ]
  },
  {
   "cell_type": "markdown",
   "id": "5c1e003a-482b-4311-b48b-fb2cf0b0b949",
   "metadata": {},
   "source": [
    "### Linear vs Non-linear Regression Performance"
   ]
  },
  {
   "cell_type": "markdown",
   "id": "fa0eacee-544f-4805-bcb4-4a11e2f929fb",
   "metadata": {},
   "source": [
    "Between the imputation models, **Non-Linear Regression Imputation** performed marginally better than Linear Regression Imputation, with a slightly higher Macro Avg F1 (0.6185 vs. 0.6183) and Weighted Avg F1 (0.7049 vs. 0.7048).\n",
    "\n",
    "This small improvement suggests that the relationship between the missing feature and the predictors is mildly non-linear. The non-linear regression model was able to capture subtle, curved dependencies that linear regression could not fully represent, resulting in marginally better imputation quality and downstream classification performance."
   ]
  },
  {
   "cell_type": "markdown",
   "id": "525f1211-b49d-45ae-8d18-f3a37c9f85b1",
   "metadata": {},
   "source": [
    "## Final Recommendation"
   ]
  },
  {
   "cell_type": "markdown",
   "id": "d8a6e5bc-158f-4198-84c6-0eaafd1164eb",
   "metadata": {},
   "source": [
    "Preferred Method: Non-Linear Regression Imputation (Model C).\n",
    "\n",
    "1. **Data Retention**: Retains all 1327 samples, avoiding loss of potentially informative data.\n",
    "\n",
    "2. **Captures Complex Relationships**: Slightly better than Linear Regression Imputation (Macro F1 0.6185 vs 0.6183) due to ability to model non-linear dependencies between missing features and predictors.\n",
    "\n",
    "3. **Generalizability**: Avoids biases introduced by Listwise Deletion, which reduces dataset size (1178 samples) and may skew class/feature distributions.\n",
    "\n",
    "4. **Robustness**: Maintains statistical power, ensures minority-class representation, and reduces risk of overfitting to a “cleaner” subset.\n",
    "\n",
    "5. **Trade-off Consideration**: While Listwise Deletion shows slightly higher raw metrics (Accuracy 0.6900, Weighted F1 0.7133), these may be misleading due to data loss and potential selection bias."
   ]
  },
  {
   "cell_type": "code",
   "execution_count": null,
   "id": "6d247b0d-ff52-42e3-bd5a-5b9a02677454",
   "metadata": {},
   "outputs": [],
   "source": []
  }
 ],
 "metadata": {
  "kernelspec": {
   "display_name": "Python 3 (ipykernel)",
   "language": "python",
   "name": "python3"
  },
  "language_info": {
   "codemirror_mode": {
    "name": "ipython",
    "version": 3
   },
   "file_extension": ".py",
   "mimetype": "text/x-python",
   "name": "python",
   "nbconvert_exporter": "python",
   "pygments_lexer": "ipython3",
   "version": "3.12.3"
  }
 },
 "nbformat": 4,
 "nbformat_minor": 5
}
